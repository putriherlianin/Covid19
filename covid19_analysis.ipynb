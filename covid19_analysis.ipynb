# COVID-19 Data Analysis

import pandas as pd
import matplotlib.pyplot as plt
import seaborn as sns

# Load dataset
df = pd.read_csv("covid19_data.csv")

# Preview data
df.head()

# Check missing values
df.isnull().sum()

# Fill missing values
df.fillna(0, inplace=True)

# Total confirmed cases by country
top_countries = df.groupby('location')['total_cases'].max().sort_values(ascending=False).head(10)
top_countries.plot(kind='bar', title='Top 10 Countries by Total COVID-19 Cases', color='coral')
plt.ylabel("Total Cases")
plt.show()
