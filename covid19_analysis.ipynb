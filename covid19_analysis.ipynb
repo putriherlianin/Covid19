# COVID-19 Data Analysis

import pandas as pd
import matplotlib.pyplot as plt
import seaborn as sns

# Load dataset
df = pd.read_csv("covid19_data.csv")

# Preview data
df.head()
